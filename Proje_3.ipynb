{
 "cells": [
  {
   "cell_type": "code",
   "execution_count": 10,
   "metadata": {},
   "outputs": [],
   "source": [
    "#1 HOG Feature model train\n",
    "#kütüphanleri yükledik\n",
    "import os\n",
    "import numpy as np\n",
    "import cv2\n",
    "import matplotlib.pyplot as plt\n",
    "import pickle\n",
    "import random\n",
    "from sklearn.model_selection import train_test_split\n",
    "from sklearn.svm import SVC\n",
    "\n",
    "#HOG Feature model oluşturma\n",
    "#hog feature model parametrelerini oluşturduk\n",
    "FeatureVecSize = 7056; #train edilicek resimlerin hog shape i\n",
    "winSize = (60,60)\n",
    "blockSize = (8,8)\n",
    "blockStride = (4,4)\n",
    "cellSize = (4,4)\n",
    "nbins = 9\n",
    "\n",
    "#resimlerin dosya yolunu belirttik\n",
    "\n",
    "dir='dataset/trainingData'\n",
    "categories=[]\n",
    "\n",
    "#resimlerin dosya isimleri için for döngüsü oluşturduk \"1,2,3,4,..\"\n",
    "for i in range (59):\n",
    "    categories.append(\"{}\".format(i))\n",
    "\n",
    "    \n",
    "categories.remove('0')\n",
    "    \n",
    "#hog feature hesaplama metodunu oluşturduk\n",
    "hog = cv2.HOGDescriptor(winSize,blockSize,blockStride,cellSize,nbins)\n",
    "#train edilicek data için array oluşturduk train edilicek datayı yatay bir array haline getirdik \n",
    "trainData = np.zeros((1, FeatureVecSize), dtype = \"float32\")\n",
    "#labellama için array oluşturduk\n",
    "labels = np.zeros((1, 1), dtype = \"float32\")\n",
    "for category in categories:\n",
    "    #dosya yolundan resimleri aktarmak için bir path belirledik\n",
    "    path=os.path.join(dir,category)\n",
    "    #categories listesindeki öğeleri indekslerine göre labelladık\n",
    "    label=categories.index(category)\n",
    "    \n",
    "    for img in os.listdir(path):\n",
    "        #belirtilen yoldaki resimleri açtık\n",
    "        imgpath = os.path.join(path,img)\n",
    "        obj_img = cv2.imread(imgpath,cv2.IMREAD_GRAYSCALE)\n",
    "        try:\n",
    "            #hog feature hesaplattık\n",
    "            hog_array = hog.compute(obj_img)\n",
    "            #hog hesaplatılan datayı yatay hale getirdik\n",
    "            out = (hog_array).reshape(-1,FeatureVecSize)\n",
    "            #trainData ve labels arraylerine datayı ve labelları ekledik\n",
    "            trainData = np.float32( np.insert(trainData, -1, out, 0)) \n",
    "            labels = np.float32( np.insert(labels, -1, label, 0))\n",
    "        #hata aldığımızda işleme devam etmesi için except ve try döngülerini kullandık    \n",
    "        except Exception as e:\n",
    "            pass\n"
   ]
  },
  {
   "cell_type": "code",
   "execution_count": 12,
   "metadata": {},
   "outputs": [
    {
     "name": "stderr",
     "output_type": "stream",
     "text": [
      "D:\\Okul\\Anaconda\\lib\\site-packages\\sklearn\\utils\\validation.py:761: DataConversionWarning: A column-vector y was passed when a 1d array was expected. Please change the shape of y to (n_samples, ), for example using ravel().\n",
      "  y = column_or_1d(y, warn=True)\n"
     ]
    },
    {
     "data": {
      "text/plain": [
       "SVC(C=15, cache_size=200, class_weight=None, coef0=0.0,\n",
       "  decision_function_shape='ovr', degree=3, gamma='auto', kernel='rbf',\n",
       "  max_iter=-1, probability=False, random_state=None, shrinking=True,\n",
       "  tol=0.001, verbose=False)"
      ]
     },
     "execution_count": 12,
     "metadata": {},
     "output_type": "execute_result"
    }
   ],
   "source": [
    "#2 SVM Classifier Model Oluşturma:\n",
    "\n",
    "x_train,x_test,y_train,y_test = train_test_split(trainData,labels,test_size=0.2)\n",
    "\n",
    "model = SVC(C=15,kernel='rbf',gamma='auto')\n",
    "\n",
    "model.fit(x_train,y_train)\n"
   ]
  },
  {
   "cell_type": "code",
   "execution_count": 13,
   "metadata": {},
   "outputs": [
    {
     "name": "stdout",
     "output_type": "stream",
     "text": [
      "Accuracy:  0.8911174785100286\n",
      "Predict:  o\n"
     ]
    },
    {
     "data": {
      "image/png": "[encoded data removed]",
      "text/plain": [
       "<Figure size 432x288 with 1 Axes>"
      ]
     },
     "metadata": {
      "needs_background": "light"
     },
     "output_type": "display_data"
    }
   ],
   "source": [
    "#Model Doğruluğunu test etme\n",
    "\n",
    "#labellanmış train data üzerinden yaptığı tahminin denk geldiği harfi görmek için tahminlenicek öğelerin olduğu liste yaptık\n",
    "ayirici='abcdefghijklmnopqrstuvwxyzABCDEFGHIJKLMNOPQRSTUVWXYZ,;:?!.'\n",
    "categories=[]\n",
    "for i in ayirici:\n",
    "    categories.append(i)\n",
    "#tahminleme ve doğruluk oranı hesaplattık\n",
    "prediction=model.predict(x_test)\n",
    "accuracy=model.score(x_test,y_test)\n",
    "\n",
    "print('Accuracy: ',accuracy)\n",
    "print('Predict: ',categories[int(prediction[0])])\n",
    "\n",
    "ornek=x_test[0].reshape(84,84)\n",
    "plt.imshow(ornek,cmap='gray')\n",
    "plt.show()"
   ]
  },
  {
   "cell_type": "code",
   "execution_count": 9,
   "metadata": {},
   "outputs": [
    {
     "data": {
      "text/plain": [
       "-1"
      ]
     },
     "execution_count": 9,
     "metadata": {},
     "output_type": "execute_result"
    }
   ],
   "source": [
    "#4 Kelimeleri ayırma\n",
    "\n",
    "#read image\n",
    "img = cv2.imread('text.jpg')\n",
    "\n",
    "#grayscale\n",
    "gray = cv2.cvtColor(img,cv2.COLOR_BGR2GRAY)\n",
    "\n",
    "gray = cv2.blur(gray,(5,5))\n",
    "\n",
    "#binarize \n",
    "ret,thresh = cv2.threshold(gray,127,255,cv2.THRESH_BINARY_INV)\n",
    "\n",
    "#find contours\n",
    "im2,ctrs, hier = cv2.findContours(thresh.copy(), cv2.RETR_EXTERNAL, cv2.CHAIN_APPROX_NONE)\n",
    "\n",
    "sorted_ctrs = sorted(ctrs, key=lambda ctr: cv2.boundingRect(ctr)[0] + cv2.boundingRect(ctr)[1] )\n",
    "\n",
    "#roi için bound box ların parametlerinin ek değerleri\n",
    "s=10\n",
    "sm=-5\n",
    "sayac=0\n",
    "\n",
    "for i, ctr in enumerate(sorted_ctrs):\n",
    "    # Get bounding box\n",
    "    x, y, w, h = cv2.boundingRect(ctr)\n",
    "    #y ve height değerlerini manipüle ettik böylece harfleri teker teker alabildi\n",
    "    w += s\n",
    "    h += 25\n",
    "    x += sm\n",
    "    y += -20\n",
    "    \n",
    "    # Getting ROI\n",
    "    #bulduğu her harfi png olarak kayıt edicek\n",
    "    #kontör sayısına göre harfleri ayırdık böylece 'i' harflerinin noktalarını almamış olduk\n",
    "    if len(ctr)>20:\n",
    "        sayac=int(sayac)\n",
    "        sayac+=1\n",
    "        sayac=str(sayac)\n",
    "        roi = img[y:y+h, x:x+w]\n",
    "        dir='dataset/exampleimgs1'\n",
    "        path=os.path.join(dir,sayac)\n",
    "        cv2.imwrite('{}.png'.format(path), roi)\n",
    "\n",
    "    \n",
    "cv2.imshow('binarize',thresh)\n",
    "cv2.imshow('marked areas',img)\n",
    "cv2.waitKey(0)"
   ]
  },
  {
   "cell_type": "code",
   "execution_count": 14,
   "metadata": {
    "scrolled": true
   },
   "outputs": [
    {
     "name": "stdout",
     "output_type": "stream",
     "text": [
      "['i', 't', 'i', 'g', 'i', 'h', 't', 'h', '.', 'g', 'c', 'a', 'h', 'm', 'i', 't', 'a', 'b', 'a', 'f', 'c', 'b', 'a', 'v', 't', 'i', 'h', 'c', 'a', 'a', 'b', 't', 'b', 'b', 'h', '.', 'a', 'M', 't', 'f', 'a', 'u', 'a', 'd', 't', 'a', 'h', 'b', 'i', 'c', 'h', 'g', 'd', 't', 'u', 'h', 't', 'u', 'i', '?', 't', 'i', 'g', 'b', 'c', 'c', 'g', 'a', 'a', 'u', 'c', 'c', 'i', 'h', 'h', 'h', 'J', 'a', 't', 'r', 'u', 'd', 'a', 'n', 'y', 'i', '.', 'i', 'b', '.', 'h', 'h', 'V', 'w', 'a', 't', 'b', 'h', 'a', 'i', 'i', 'f', 'M', 'u', 't', 'g', 't', ';', 'f', 'a', 'h', ';', 'r', ';', 'i', 't', 'd', 'i', 'b', ';', '.', 'c', 'i', 'i', 't', ';', 'f', 'h', 'i', ';', '.', 'i', 'i', 'a', 'i', 'a', 'g', 'h', '.', 'g', 'a', 'b', 'h', 'h', 'h', 'h', 'a', 'g', '.', 'c', 'i', 't', 'd', 'g', 'f', 'i', 't', 'c', 't', 'g', ',', 'a', 'u', 'c', 'h', 'c', 'i', 'd', 'u', 'c', 'b', 'y', 'B', 'b', '.', 'a', 'M', ';', '?', 'h', '.', 'a', 'c', 'h', 'a', 'u', 'i', 'a', 't', 'a', 'a', '.', 'h', 'u', 'b', 'h', 'c', 'i', 'b', 'r', 'i', 'i', 't', 'g', 'a', 'u', 'r', 'i', '.', 'h', 'g', 'y', 'c', 'g', 'a', 'a', 'h', 'h', 'c', ';', 't', 'g', 'M', 't', 'i', 't', 'V', 'i', 'h', 'd', 'V', 'M', 'h', 'd', 'c', 'a', 'c', 'i', ';', 'd', 'b', 'i', 'm', 'w', 'g', 'i', 'b', 'f', 'b', 'h', 'h', 'v', '.', 'g', 'b', 'a', 'i', 'c', 'J', 'a', 'i', 'd', '.', 't', 'b', 'c', 'd', '.', 'h', 'd', 'a', 'h', 'h', 'g', '?', '.', 'i', 'd', '?', 'c', 'i', 'g', 'h', 'i', 'g', 'M', 'd', '.', '.', 'i', 'h', 'a', 'h', 'i', 'a', 't', 'h', 'c', 'b', 't', 't', 'i', 'u', 'u', 'u', 'y', 't', ';', 'a', 'f', 'u', 'g', ';', 'i', 'g', ';', 'y', ',', 'j', 'c', 'p', ';', 'h', 'f', 'i', 'a', 'd', ';', 'i', 'i', 'h', 'i', 'a', 'h', ';', 'u', 'c', 'i', ';', 't', 'g', 'f', 'i', 'b', 'c', 'a', 'h', 'a', 'i', 'h', 'a', 'g', 'g', 'i', 'i', 't', 'h', 't', 'h', 'c', 'h', 'r', '.', 'y', 'a', 'a', 'y', 'c', 'i', 'i', 'y', 'd', 'i', 'c', 'b', ';', 'h', 'h', 'd', ';', 'd', 'a', ';', 'c', 'i', 'c', 'h', 'm', 'a', 'c', 'h', 'V', 'g', 'd', 't', 'd', 'i', 'g', 'i', 'h', 'i', 'a', 'a', 'a', ';', 'a', 'm', 'a', 'M', 'c', 'f', 'c', 'k', 'g', ';', 'h', ';', 'i', 'a', 'u', 't', 'a', 'i', 'b', '.', 'h', 'i', 'c', '.', 'b', 'f', 'a', 'g', 'd', 'h', 'i', 'n', ';', 'a', 'i', 't', 'u', 'c', 'a', 'd', 'i', 'd', 't', 'c', 'w', 'g', '.', 'h', '.', 'a', 'a', 'g', 'h', 'h', 'a', 'i', 'f', 'J', 'i', 'd', ';', 'd', ';', 'c', 'u', 't', '.', 'i', '.', 'i', 'u', 'h', 'h', 'h', ';', 'a', 'a', ';', 'a', 'i', 'i', 'w', 'c', 'a', 'i', 'i', ':', 't', 'i', 'a', 't', 'a', 'u', ':', 'i', 'd', 'i', 't', 'd', 'h', 'd', 'g', 't', 'i', 'a', 'c', 'i', 't', 'c', 'y', 't', 'h', 'g', 'c', 'c', 'i', 'f', 'c', 't', 'd', '.', ';', 'i', 'i', 't', '.', 'h', 'g', 'i', 'a', 'c', ';', 'f', 'g', 'h', 'h', 'h', 'i', 't', 'd', 'u', 'E', 'b', 'd', 'a', 'i', 'c', 'i', 'i', 'a', 'i', 'c', 'a', 'b', 'h', 'i', 'd', 'c', 'h', 'g', 'i', 'a', ';', 'u', 'c', 'h', '.', 'a', 'i', '.', 'd', 'T', 'h', '.', 'c', 't', 'r', 't', '.', 't', 'h', 'm', 'c', 'F', 'h', 'a', 'd', 'd', 'v', '.', '.', 'g', 't', 'd', 'f', ';', 'a', 'g', 'a', 'c', 'a', 'd', '.', ';', 'i', 't', ';', 't', 'a', 'i', 't', 'h', 'i', '.', 'h', '?', 'm', 'R', '.', 'h', 'i', 'c', 'c', 'i', 'i', 't', 'x', 'd', 't', 't', 'a', '.', 'g', 'c', 'i', 'a', 'h', 'a', 'g', 'g', 'h', '.', 'a', 'h', 'h', 'd', 'H', 'M', 'a', 'c', 'a', 'd', ';', 't', 'i', 'h', 'c', ';', 'a', 't', ';', 'h', 'i', ';', 'V', 'h', 'd', 'i', ';', 'a', 'a', 'c', '.', 'i', 'a', 'g', '.', 'c', 'i', 'i', 'h', 'c', 'd', 'd', 'h', '?', 'T', 'g', '.', 'a', 't', ';', 't', 'g', 'i', 'a', 'i', 'a', 'i', 'i', 'd', 'd', 'i', 'd', 'f', ';', 'a', 'd', 'c', 'b', 'f', 'f', 'b', ';', 'm', 'r', 'i', '.', ';', 'h', 'b', '.', 'b', 'h', 'd', 't', ';', 'a', ';', 'g', 'h', 'i', 'T', 'a', 'h', 'i', 'a', 'i', 'i', 'd', 'b', 'h', 'i', 'a', 'h', ';', 'i', 'a', 'h', 'i', 'g', 'h', 'h', 'h', 't', 't', 'c', 'c', 'a', 'b', 'h', '.', '.', 'a', 'd', '.', 'd', 'u', 'a', 'r', 'i', 'b', 'E', 'w', 't', 'c', ';', 'h', 'i', 't', 'i', '.', 'f', 'h', 'c', 'i', 'h', 'd', 'i', 'c', ';', 'c', 'i', 't', 'h', 't', 'd', 'g', 'g', 'a', 'i', 't', 'g', 't', 't', 'a', 't', 'h', 'i', 'd', 'k', 'g', 'h', 'i', 'd', 'd', ',', 'h', 't', 'h', 'a', 'f', ';', 'a', '.', 'a', 'i', 'c', 'd', 'a', 'g', 'c', 'd', 'a', 'c', 'u', 'h', 'a', 't', 't', 'h', 'd', 'h', 'i', 'd', 'a', 'i', '.', 'a', 'i', 'd', 'a', 'b', 'h', 't', ';', 'r', 'h', 'm', 'd', 'h', 'u', '.', 'g', 'm', 'h', 'V', 'c', 't', '?', 'c', 'i', 't', 'g', 'a', 'd', 'i', 'c', 'h', 'a', 'a', 'h', ';', 'i', 't', ';', 't', 'r', 't', 'E', 'i', 'k', 'i', 'i', 'd', 'a', 'f', 'd', 'c', 'c', 'a', 't', 'a', 'b', 'a', 'd', 'h', 'a', 't', 'i', 'd', 'f', 'i', 'd', 'a', 'd', 'h', 'h', 'r', 'c', 'h', 'h', 'a', 'u', 't', 'd', 'd', 'h', 'f', ';', 'a', 'b', 'i', 'f', 'd', 'd', 'c', 'd', 'g', 'i', 'i', 'h', 'd', 'i', 'i', 't', 'h', '.', 'a', 'y', 'g', 't', 'i', 'g', 'u', 'n', 'i', 'g', ',', 'b', 'c', 'd', ';', 'i', 'h', 'g']\n"
     ]
    }
   ],
   "source": [
    "#5 Tahminleme ve yazdırma\n",
    "ayirici='abcdefghijklmnopqrstuvwxyzABCDEFGHIJKLMNOPQRSTUVWXYZ,;:?!.'\n",
    "\n",
    "categories=[]\n",
    "for i in ayirici:\n",
    "    categories.append(i)\n",
    "\n",
    "sayac=int(sayac)\n",
    "tahmin_liste=[]\n",
    "\n",
    "for i in range(sayac):\n",
    "    indeks=str(i+1)\n",
    "    img = cv2.imread('dataset/exampleimgs/{}.png'.format(indeks),cv2.IMREAD_GRAYSCALE)\n",
    "    img=cv2.resize(img,(60,60))\n",
    "    imgList = np.zeros((1, 7056), dtype = \"float32\")\n",
    "    hog_array_img = hog.compute(img)\n",
    "    out_img = (hog_array_img).reshape(-1,FeatureVecSize)\n",
    "    imgList = np.float32( np.insert(imgList, -1, out_img, 0))\n",
    "    prediction=model.predict(imgList)\n",
    "    tahmin_liste.append(categories[int(prediction[0])])\n",
    "\n",
    "    \n",
    "\n",
    "print(tahmin_liste)\n"
   ]
  },
  {
   "cell_type": "code",
   "execution_count": 18,
   "metadata": {},
   "outputs": [
    {
     "name": "stdout",
     "output_type": "stream",
     "text": [
      "['a', 'u', 'r', 'i', '.', 'h', 'g', 'y', 'c', 'g', 'a', 'a', 'h', 'h', 'c', ';', 't', 'g', 'M', 't', 'i', 't', 'V', 'i', 'h', 'd', 'V', 'M', 'h', 'd', 'c']\n"
     ]
    }
   ],
   "source": [
    "print(tahmin_liste[204:235])"
   ]
  },
  {
   "cell_type": "code",
   "execution_count": 19,
   "metadata": {},
   "outputs": [
    {
     "name": "stdout",
     "output_type": "stream",
     "text": [
      "itigihth.gcahmitabafcbavtihcaabtbbh.aMtfauadtahbichgdtuhtui?tigbccgaauccihhhJatrudanyi.ib.hhVwatbhaiifMutgt;fah;r;itdib;.ciit;fhi;.iiaiagh.gabhhhhag.citdgfitctg,auchciducbyBb.aM;?h.achauiataa.hubhcibriitgauri.hgycgaahhc;tgMtitVihdVMhdcaci;dbimwgibfbhhv.gbaicJaid.tbcd.hdahhg?.id?cighigMd..ihahiathcbttiuuuyt;afug;ig;y,jcp;hfiad;iihiah;uci;tgfibcahaihaggiiththchr.yaayciiydicb;hhd;da;cichmachVgdtdigihiaaa;amaMcfckg;h;iautaib.hic.bfagdhin;aitucadidtcwg.h.aaghhaifJid;d;cut.i.iuhhh;aa;aiiwcaii:tiatau:iditdhdgtiacitcythgccifctd.;iit.hgiac;fghhhitduEbdaiciiaicabhidchgia;uch.ai.dTh.ctrt.thmcFhaddv..gtdf;agacad.;it;taithi.h?mR.hicciitxdtta.gciahaggh.ahhdHMacad;tihc;at;hi;Vhdi;aac.iag.ciihcddh?Tg.at;tgiaiaiiddidf;adcbffb;mri.;hb.bhdt;a;ghiTahiaiidbhiah;iahighhhttccabh..ad.duaribEwtc;hiti.fhcihdic;cithtdggaitgttathidkghidd,hthaf;a.aicdagcdacuhatthdhidai.aidabht;rhmdhu.gmhVct?citgadichaah;it;trtEikiidafdccatabadhatidfidadhhrchhautddhf;abifddcdgiihdiith.aygtigunig,bcd;ihg\n"
     ]
    }
   ],
   "source": [
    "metin=''\n",
    "for i in tahmin_liste:\n",
    "    metin+=i\n",
    "print(metin)    "
   ]
  },
  {
   "cell_type": "code",
   "execution_count": null,
   "metadata": {},
   "outputs": [],
   "source": []
  }
 ],
 "metadata": {
  "kernelspec": {
   "display_name": "Python 3",
   "language": "python",
   "name": "python3"
  },
  "language_info": {
   "codemirror_mode": {
    "name": "ipython",
    "version": 3
   },
   "file_extension": ".py",
   "mimetype": "text/x-python",
   "name": "python",
   "nbconvert_exporter": "python",
   "pygments_lexer": "ipython3",
   "version": "3.7.3"
  }
 },
 "nbformat": 4,
 "nbformat_minor": 2
}
