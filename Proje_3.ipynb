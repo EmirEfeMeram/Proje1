{
 "cells": [
  {
   "cell_type": "code",
   "execution_count": 1,
   "metadata": {},
   "outputs": [],
   "source": [
    "#1 HOG Feature model train\n",
    "#kütüphaneleri yükledik\n",
    "import os\n",
    "import numpy as np\n",
    "import cv2\n",
    "import matplotlib.pyplot as plt\n",
    "import pickle\n",
    "import random\n",
    "from sklearn.model_selection import train_test_split\n",
    "from sklearn.svm import SVC\n",
    "\n",
    "#HOG Feature model oluşturma\n",
    "#hog feature model parametrelerini oluşturduk\n",
    "FeatureVecSize = 7056; #train edilicek resimlerin hog shape i\n",
    "winSize = (60,60)\n",
    "blockSize = (8,8)\n",
    "blockStride = (4,4)\n",
    "cellSize = (4,4)\n",
    "nbins = 9\n",
    "\n",
    "#resimlerin dosya yolunu belirttik\n",
    "\n",
    "dir='dataset/trainingData'\n",
    "categories=[]\n",
    "\n",
    "#resimlerin dosya isimleri için for döngüsü oluşturduk \"1,2,3,4,..\"\n",
    "for i in range (59):\n",
    "    categories.append(\"{}\".format(i))\n",
    "\n",
    "    \n",
    "categories.remove('0')\n",
    "    \n",
    "#hog feature hesaplama metodunu oluşturduk\n",
    "hog = cv2.HOGDescriptor(winSize,blockSize,blockStride,cellSize,nbins)\n",
    "#train edilicek data için array oluşturduk train edilicek datayı yatay bir array haline getirdik \n",
    "trainData = np.zeros((1, FeatureVecSize), dtype = \"float32\")\n",
    "#labellama için array oluşturduk\n",
    "labels = np.zeros((1, 1), dtype = \"float32\")\n",
    "for category in categories:\n",
    "    #dosya yolundan resimleri aktarmak için bir path belirledik\n",
    "    path=os.path.join(dir,category)\n",
    "    #categories listesindeki öğeleri indekslerine göre labelladık\n",
    "    label=categories.index(category)\n",
    "    \n",
    "    for img in os.listdir(path):\n",
    "        #belirtilen yoldaki resimleri açtık\n",
    "        imgpath = os.path.join(path,img)\n",
    "        obj_img = cv2.imread(imgpath,cv2.IMREAD_GRAYSCALE)\n",
    "        try:\n",
    "            #hog feature hesaplattık\n",
    "            hog_array = hog.compute(obj_img)\n",
    "            #hog hesaplatılan datayı yatay hale getirdik\n",
    "            out = (hog_array).reshape(-1,FeatureVecSize)\n",
    "            #trainData ve labels arraylerine datayı ve labelları ekledik\n",
    "            trainData = np.float32( np.insert(trainData, -1, out, 0)) \n",
    "            labels = np.float32( np.insert(labels, -1, label, 0))\n",
    "        #hata aldığımızda işleme devam etmesi için except ve try döngülerini kullandık    \n",
    "        except Exception as e:\n",
    "            pass\n"
   ]
  },
  {
   "cell_type": "code",
   "execution_count": 2,
   "metadata": {},
   "outputs": [
    {
     "name": "stderr",
     "output_type": "stream",
     "text": [
      "D:\\Okul\\Anaconda\\lib\\site-packages\\sklearn\\utils\\validation.py:761: DataConversionWarning: A column-vector y was passed when a 1d array was expected. Please change the shape of y to (n_samples, ), for example using ravel().\n",
      "  y = column_or_1d(y, warn=True)\n"
     ]
    },
    {
     "data": {
      "text/plain": [
       "SVC(C=15, cache_size=200, class_weight=None, coef0=0.0,\n",
       "  decision_function_shape='ovr', degree=3, gamma='auto', kernel='rbf',\n",
       "  max_iter=-1, probability=False, random_state=None, shrinking=True,\n",
       "  tol=0.001, verbose=False)"
      ]
     },
     "execution_count": 2,
     "metadata": {},
     "output_type": "execute_result"
    }
   ],
   "source": [
    "#2 SVM Classifier Model Oluşturma:\n",
    "\n",
    "x_train,x_test,y_train,y_test = train_test_split(trainData,labels,test_size=0.2)\n",
    "\n",
    "model = SVC(C=15,kernel='rbf',gamma='auto')\n",
    "\n",
    "model.fit(x_train,y_train)\n"
   ]
  },
  {
   "cell_type": "code",
   "execution_count": 3,
   "metadata": {},
   "outputs": [
    {
     "name": "stdout",
     "output_type": "stream",
     "text": [
      "Accuracy:  0.9398280802292264\n",
      "Predict:  .\n"
     ]
    },
    {
     "data": {
      "image/png": "[encoded data removed]",
      "text/plain": [
       "<Figure size 432x288 with 1 Axes>"
      ]
     },
     "metadata": {
      "needs_background": "light"
     },
     "output_type": "display_data"
    }
   ],
   "source": [
    "#Model Doğruluğunu test etme\n",
    "\n",
    "#labellanmış train data üzerinden yaptığı tahminin denk geldiği harfi görmek için tahminlenicek öğelerin olduğu liste yaptık\n",
    "ayirici='abcdefghijklmnopqrstuvwxyzABCDEFGHIJKLMNOPQRSTUVWXYZ,;:?!.'\n",
    "categories=[]\n",
    "for i in ayirici:\n",
    "    categories.append(i)\n",
    "#tahminleme ve doğruluk oranı hesaplattık\n",
    "prediction=model.predict(x_test)\n",
    "accuracy=model.score(x_test,y_test)\n",
    "\n",
    "print('Accuracy: ',accuracy)\n",
    "print('Predict: ',categories[int(prediction[0])])\n",
    "\n",
    "ornek=x_test[0].reshape(84,84)\n",
    "plt.imshow(ornek,cmap='gray')\n",
    "plt.show()"
   ]
  },
  {
   "cell_type": "code",
   "execution_count": 10,
   "metadata": {},
   "outputs": [],
   "source": [
    "#4Kelimeleri Ayırma\n",
    "#önce satırları sonra kelimeleri ayırıyoruz\n",
    "import cv2\n",
    "import numpy as np\n",
    "\n",
    "# load image\n",
    "img = cv2.imread(\"text.jpg\")\n",
    "\n",
    "# convert to gray\n",
    "gray = cv2.cvtColor(img, cv2.COLOR_BGR2GRAY)\n",
    "\n",
    "# threshold the grayscale image\n",
    "thresh = cv2.threshold(gray, 0, 255, cv2.THRESH_BINARY_INV + cv2.THRESH_OTSU)[1]\n",
    "\n",
    "# use morphology erode to blur horizontally\n",
    "kernel = cv2.getStructuringElement(cv2.MORPH_RECT, (151, 3))\n",
    "morph = cv2.morphologyEx(thresh, cv2.MORPH_DILATE, kernel)\n",
    "\n",
    "# use morphology open to remove thin lines from dotted lines\n",
    "kernel = cv2.getStructuringElement(cv2.MORPH_RECT, (3, 17))\n",
    "morph = cv2.morphologyEx(morph, cv2.MORPH_OPEN, kernel)\n",
    "\n",
    "# find contours\n",
    "cntrs = cv2.findContours(morph, cv2.RETR_EXTERNAL, cv2.CHAIN_APPROX_SIMPLE)\n",
    "cntrs = cntrs[0] if len(cntrs) == 2 else cntrs[1]\n",
    "\n",
    "# Draw contours excluding the topmost box\n",
    "sorted_cntrs = sorted(cntrs, key=lambda ctr: cv2.boundingRect(ctr)[1],reverse=False)\n",
    "result = img.copy()\n",
    "#bulduğumuz her bir satır için roi çıkartırıp, bu roiler içinden kelimeleri buluyoruz\n",
    "sayac=0\n",
    "for i,c in enumerate(sorted_cntrs):\n",
    "    box = cv2.boundingRect(c)\n",
    "    x,y,w,h = box\n",
    "    h=h+10\n",
    "    y=y-10\n",
    "    #Roi yi çıkartıyoruz grayscale,blurlama ve trashold ile kontör bulma yapıyoruz\n",
    "    rowRoi = img[y:y+h, x:x+w]\n",
    "    grayRowRoi = cv2.cvtColor(rowRoi, cv2.COLOR_BGR2GRAY)\n",
    "    blurRowRoi = cv2.blur(grayRowRoi,(5,5))\n",
    "    ret,thresh = cv2.threshold(blurRowRoi,127,255,cv2.THRESH_BINARY_INV)\n",
    "    im2,ctrs, hier = cv2.findContours(thresh.copy(), cv2.RETR_EXTERNAL, cv2.CHAIN_APPROX_NONE)\n",
    "    #bulduğumuz he rbir kontörü x ekseninde sırlaıyoruz\n",
    "    sorted_ctrs = sorted(ctrs, key=lambda ctr: cv2.boundingRect(ctr)[0])\n",
    "    s=10\n",
    "    sm=-5\n",
    "    #boşlukları hulmak için her bir kontörün boundingrectlerinin x+w değerinden x değerini çıkarıcaz bulunan farka göre boşluk\n",
    "    #olup olmadığını anlıycaz\n",
    "    #ilk değerin x+w değeri olmadığı için bunu kendi x değerine eşitliyoruz\n",
    "    firstX,_,_,_=cv2.boundingRect(sorted_ctrs[0])\n",
    "    xpw=firstX+sm\n",
    "    for i, ctr in enumerate(sorted_ctrs):\n",
    "\n",
    "        x, y, w, h = cv2.boundingRect(ctr)\n",
    "        w += s\n",
    "        h += 15\n",
    "        x += sm\n",
    "        y += -12\n",
    "        #kontör sayısı 20 den yüksekse nokta değildir bu yüzden sadece 20 den yukarı kontörlere işlem yaptırdık\n",
    "        if len(ctr)>20:\n",
    "            sayac=int(sayac)\n",
    "            sayac+=1\n",
    "            sayac=str(sayac)\n",
    "            roi = rowRoi[y:y+h, x:x+w]\n",
    "            dir='dataset/exampleimgs1'\n",
    "            path=os.path.join(dir,sayac)\n",
    "            #önceki değerin (X+w)- şimdiki değerin x' inin farkının mutlak değerini aldık çünkü bazen (-)eksili değer çıkabilir\n",
    "            #bu mutlak değer 9 dan büyükse boşluk vardır o zaman boş bir png dosyası kaydederiz \n",
    "            if abs(xpw-x)>9:\n",
    "                #roi değeri oluştururken verdiğimiz değerler olmaması gereken değerler ise roi boş bir png oluşturur\n",
    "                EmptyImg = img[2:1,2:1]\n",
    "                cv2.imwrite('{}.png'.format(path),EmptyImg)\n",
    "                sayac=int(sayac)\n",
    "                sayac+=1\n",
    "                sayac=str(sayac)\n",
    "                path=os.path.join(dir,sayac)\n",
    "            xpw=x+w\n",
    "            cv2.imwrite('{}.png'.format(path), roi)\n",
    "\n"
   ]
  },
  {
   "cell_type": "code",
   "execution_count": 8,
   "metadata": {},
   "outputs": [
    {
     "name": "stdout",
     "output_type": "stream",
     "text": [
      "['V', 't', ' ', 'n', 'g', ' ', 't', 'h', 'e', ' ', 'm', 'C', 'f', 'h', 'o', 'd', ' ', 'f', 'o', ' ', 'r', 'C', 'n', 'o', 'V', 'a', 't', '.', ' ', 'm', '.', 'c', 'h', 'a', 'h', 'w', 'g', 'm', ' ', 'w', 'n', ' ', 'p', 'r', 'w', 'n', 'f', ',', ' ', 'd', 'w', 'g', 'Q', 'C', 'n', 'g', '.', ' ', 'W', 'h', ' ', 'p', 'r', 'w', 'h', 'f', ' ', 'O', 'r', ' ', 'h', 'a', 'h', 'd', ' ', 'p', 'r', 'n', 'n', 'f', '.', 'd', ' ', 'a', 'r', 'f', 'n', 'c', 'v', 'C', ' ', 'n', 'n', 't', 'C', 'r', 'C', 'g', 'f', '.', 'd', 'v', 'n', ' ', 'e', 'd', 'n', 't', 'a', 'b', 'n', 'C', ' ', 'm', 'a', 'h', 'u', 'g', 'c', 'r', 'w', 'p', 'f', ' ', 'a', 'r', 'r', 'a', 'h', 'g', 'C', 'm', 'C', 'n', 'f', ' ', ',', 'y', 'Q', 'n', 'G', 'a', 'w', 'w', 'y', ',', ' ', 't', 'h', '.', 'r', 'C', ' ', 'a', 'r', 'C', ' ', 't', 'w', 'o', ' ', 'd', 'n', 'g', 'g', 'w', 'm', 'r', 'w', 'a', 'r', 'c', 'a', 't', 'G', 'g', 'o', 'r', 'n', 'C', 's', ' ', 'o', 'f', ' ', 'h', 'a', 'n', 'd', 'w', 'r', 'w', 't', 'n', 'n', 'g', 'c', 'h', 'a', 'r', 'a', 'c', 't', 'C', 'r', ' ', 'd', 'G', 'f', 'G', 'c', 't', 'n', 'o', 'n', ' ', 'o', 'f', 'f', 'g', 'q', 'u', 'C', 'u', 'C', ' ', 'a', 'h', 'd', ' ', 'o', 'h', 'g', 'Q', 'u', 'C', 'u', 'C', ' ', 'w', 'h', 'g', 'J', 'd', 'C', ' ', 'o', 'h', 'w', 'w', 'h', 'C', ' ', 'c', 'h', 'a', 'r', 'a', 'G', 't', 'C', 'r', ' ', 'n', 'd', 'C', 'n', 'f', 'n', 'f', 'm', 'G', 'a', 'f', 'n', 'o', 'n', ' ', 's', 'G', 'r', 'n', 'p', 'f', ' ', 'n', 'g', ' ', 'G', 'a', 'p', 't', ' ', ' ', 'u', 'r', '.', 'd', 'b', 'y', ' ', 'a', 'n', ' ', 'u', 'n', 'u', 's', 'u', 'a', 'w', ' ', 'h', 'n', 'g', 'h', 'w', 'n', 'g', 'h', 'f', 'C', 'r', ' ', 'd', 'u', 'r', 'w', 'h', 'g', ' ', 'G', 'o', 'h', 'c', 'u', 'r', 'r', '.', 'h', 'G', 'C', ' ', 't', 'h', 'r', 'o', 'u', 'g', 'h', ' ', 'C', 'w', 'C', 'c', 'f', 'r', 'o', 'h', 'n', 'c', ' ', 'p', 'C', 'r', 'n', 'p', 'h', 'C', 'r', 'a', 'w', ' ', 'o', 'f', 'f', 'T', 'n', 'n', 'C', ' ', 'G', 'h', 'a', 'r', 'a', 'G', 'f', 'C', 'r', 'd', 'G', 'f', '.', 'c', 't', 'i', 'o', 'n', ' ', 'p', 'a', 'r', 'f', 'n', 'c', 'n', 'p', 'a', 'f', 'n', 'b', 'h', ' ', 'h', 'a', 'V', 'C', ' ', 'b', 'C', 'C', 'h', ' ', 's', 'c', 'a', 'n', 'h', '.', 'd', ' ', 'a', 'g', ' ', 'o', 'f', 'a', ' ', 'Q', 'w', 'a', 'h', 'C', ' ', 'g', 'u', 'c', 'h', ' ', 'a', 'g', ' ', 'e', 'x', 'p', 'a', 'h', 'g', '.', ' ', 'o', 'r', 'd', 'b', 'c', 'u', 'm', 'G', 'n', 'f', ' ', 'a', 'h', 'd', ' ', 'g', 'f', 'o', 'r', 'C', 'd', 'd', 'n', 'g', 'n', 't', 'a', 'w', 'J', 'y', ' ', 'o', 'f', 'f', 'w', 'n', 'h', '.', ' ', 'G', 'h', 'a', 'r', 'a', 'c', 't', 'C', 'r', ' ', 'n', 'd', 'C', 'h', 'f', 'n', 'r', 'n', 'G', 'a', 'f', 'm', 'o', 'h', ' ', '.', 'h', 'c', 'w', 'o', 'g', 'e', ' ', 'd', 'C', 't', 'C', 'c', 'f', 'w', 'o', 'h', ' ', 'o', 'f', 'm', '.', 'c', 'h', 'a', 'n', 'w', 'g', 'm', ' ', 'w', 'h', ' ', 'p', 'r', 'n', 'h', 't', ',', ' ', 'h', 'a', 'h', 'd', ' ', 'p', 'r', 'n', 'h', 't', 'C', 'd', ' ', 'a', 'n', 'd', 'h', 'a', 'h', 'a', 'w', 'r', 'n', 't', 't', '.', 'n', ' ', 't', 'y', 'Q', 'C', 'g', 'C', 't', ' ', 'r', 'h', '.', ' ', 'm', 'a', 'J', 'd', 'r', 'n', 't', 'y', ' ', 'c', 'o', 'm', 'p', 'w', 'n', 'c', 'a', 'f', '.', 'd', ' ', 'd', 'w', 'r', 'f', 'm', 'G', 'u', 'w', 't', 'y', ' ', 'w', 'h', ' ', 't', 'h', 'C', ' ', 'f', 'w', '.', 'w', 'd', ' ', 'o', 'r', 'o', 'c', 'R', ' ', 'n', 'g', ' ', 'f', 'h', '.', ' ', 'n', 'd', 'C', 'n', 't', 'n', 'r', 'n', 'G', 'a', 'f', 'n', 'o', 'n', ' ', 'o', 'f', 'u', 'h', 'n', 'm', 'Q', 'G', 'd', '.', 'd', ' ', 'G', 'u', 'r', 'g', 'n', 'V', '.', ' ', 'g', 'c', 'r', 'n', 'p', 't', ' ', 'p', 'w', 'a', 'c', 'C', ' ', 'r', 'o', 'r', ' ', 'f', 'h', 'C', ' ', 'd', 'u', 'r', 'a', 't', 'w', 'o', 'h', ' ', 'o', 'f', ' ', 't', 'h', 'e', ' ', '.', 'm', 'g', 'h', 't', 'w', 'c', 'g', ' ', 'w', 'h', ' ', 'h', 'r', 'n', '.', 'f', 'w', 'e', 'S', ',', ' ', 'a', 'n', ' ', 'u', 'h', 'm', 'a', 'r', 'k', 'C', 'd', ' ', 'G', 'u', 'r', 'n', 'd', 'g', 'n', 't', 'y', 'u', 'r', 'b', 'a', 'n', 'n', 'z', 'C', 'd', ' ', 'b', 'y', ' ', 'm', 'G', 'a', 'n', 's', ' ', 'o', 'f', 'f', 'h', 'C', ' ', 'n', 'h', 'G', 'r', 'e', 'a', 'g', 'C', ' ', 'n', 'e', 'w', ' ', 'r', 'C', 'q', 'u', 'm', 'r', 'C', 'm', '.', 'h', 'f', 's', ' ', 'r', 'h', 'e', ' ', 'd', 'b', 'f', 'a', 'r', 'h', 'a', 'b', 'w', 'c', ' ', '.', 'q', 'u', 'r', 'n', 'm', '.', 'n', 't', ' ', 'f', 'd', 'r', ' ', 'm', 'o', 'd', '.', 'T', 'n', 'n', 'g', ' ', 'n', 'g', 'h', 'b', 'f', ' ', 'u', 'n', 't', 'n', 'J', ' ', 'h', 'o', 'w', ' ', '.', 'h', 'o', 'u', 'g', 'h', ' ', 'b', 'y', ' ', 'a', 'd', 'm', 'n', 'r', 'a', 'f', 'w', 'o', 'n', ' ', 't', 'd', ' ', 'Q', 'r', 'e', 's', 'C', 'n', 't', 'a', 'f', 'm', 'o', 'n', ' ', 'a', 'Q', 'n', 'r', 'o', 'n', 'r', 'm', 'a', 't', '.', ' ', 'f', 'o', ' ', 'a', ' ', 'w', 'd', 't', ' ', 'o', 'f', 'V', 'a', 'r', 'n', 'a', 'f', 'n', 'o', 'n', ' ', 'd', 'f', 'c', 'r', '.', 'a', 't', 'u', 'r', 'e', 'g', 'c', 'r', 'n', 'p', 't', ' ', 's', 'n', 'm', 'n', 'n', 'a', 'r', 'n', 't', 'y', ' ', 'n', 'h', ' ', 'n', 'h', 'd', 'n', 'v', 'n', 'd', 'u', 'a', 'n', ' ', 'q', 'u', 'a', 'w', 'n', 't', 'y', ' ', 'g', 'h', 'a', 'p', 'e', 's', ',', ' ', 't', 'h', 'C', ' ', 'o', 'v', 'C', 'r', 'w', 'a', 'Q', 'g', ',', ' ', 'a', 'n', 'd', ' ', 'm', 'n', 't', 'C', 'r', 'G', 'o', 'n', 'h', 'G', 'G', 'f', 'm', 'd', 'h', ' ', 'o', 'f', 'f', 'h', '.', ' ', 'n', 'C', 'n', 'g', 'h', ' ', 'b', 'o', 'r', 'n', 'h', 'g', 'a', 'J', 'p', 'h', 'a', 'b', 'C', 't', 'g', ' ', 'a', 'u', 'x', 'n', 'w', 'n', 'a', 'r', 'y', ' ', 'm', 'a', 'k', 'C', ' ', 'd', 'n', 'r', 'f', 'n', 'c', 'u', 'w', 't', ' ', 'f', 'h', 'C', ' ', 'p', 'r', '.', 'd', 'm', 'G', 'a', 'm', 'C', 'n', 'f']\n",
      "1113\n"
     ]
    }
   ],
   "source": [
    "#5 Tahminleme ve yazdırma\n",
    "#Ayırıcı elimizdeki 58 karakterin her birni sırasıyla yazdırdık ve ayırıcı listesi oluşturduk.\n",
    "\n",
    "ayirici='abcdefghijklmnopqrstuvwxyzABCDEFGHIJKLMNOPQRSTUVWXYZ,;:?!.'\n",
    "#model tahminleme yapınca datasetteki indeksi catogeries indeksiyle eşliycek böylece doğru karakteri yazdırmış olacağız\n",
    "categories=[]\n",
    "for i in ayirici:\n",
    "    categories.append(i)\n",
    "#üsteki kodda kelimeleri kaydederken indeks değerini yazdırmak için kullandığımız sayac değişkeni burdda tekrar int değerine dönüştürdük\n",
    "sayac=int(sayac)\n",
    "tahmin_liste=[]\n",
    "\n",
    "for i in range(sayac):\n",
    "    indeks=str(i+1)\n",
    "    img = cv2.imread('dataset/exampleimgs1/{}.png'.format(indeks),cv2.IMREAD_GRAYSCALE)\n",
    "    #img boş değilse tahminleme yaptırıyoruz\n",
    "    if img is not None:\n",
    "        img=cv2.resize(img,(60,60))\n",
    "        imgList = np.zeros((1, 7056), dtype = \"float32\")\n",
    "        hog_array_img = hog.compute(img)\n",
    "        out_img = (hog_array_img).reshape(-1,FeatureVecSize)\n",
    "        imgList = np.float32( np.insert(imgList, -1, out_img, 0))\n",
    "        prediction=model.predict(imgList)\n",
    "        tahmin_liste.append(categories[int(prediction[0])])\n",
    "    #img boş ise tahmin listesine ' ' boşluk koyduruyoruz\n",
    "    else:\n",
    "        tahmin_liste.append(' ')\n",
    "\n",
    "print(tahmin_liste)\n",
    "print(len(tahmin_liste))"
   ]
  },
  {
   "cell_type": "code",
   "execution_count": 9,
   "metadata": {},
   "outputs": [],
   "source": [
    "#6 Txt e dosyasına metni aktarma\n",
    "metin=''\n",
    "tahminTxt = open(\"OCR_tahmin1.txt\", \"w\")\n",
    "for i in tahmin_liste:\n",
    "    metin+=i\n",
    "tahminTxt.write(metin)\n",
    "tahminTxt.close() "
   ]
  },
  {
   "cell_type": "code",
   "execution_count": null,
   "metadata": {
    "scrolled": true
   },
   "outputs": [],
   "source": []
  },
  {
   "cell_type": "code",
   "execution_count": null,
   "metadata": {},
   "outputs": [],
   "source": []
  },
  {
   "cell_type": "code",
   "execution_count": 12,
   "metadata": {},
   "outputs": [],
   "source": [
    "  "
   ]
  },
  {
   "cell_type": "code",
   "execution_count": null,
   "metadata": {},
   "outputs": [],
   "source": []
  }
 ],
 "metadata": {
  "kernelspec": {
   "display_name": "Python 3",
   "language": "python",
   "name": "python3"
  },
  "language_info": {
   "codemirror_mode": {
    "name": "ipython",
    "version": 3
   },
   "file_extension": ".py",
   "mimetype": "text/x-python",
   "name": "python",
   "nbconvert_exporter": "python",
   "pygments_lexer": "ipython3",
   "version": "3.7.3"
  }
 },
 "nbformat": 4,
 "nbformat_minor": 2
}
